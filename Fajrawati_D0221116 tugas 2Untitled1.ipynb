{
  "nbformat": 4,
  "nbformat_minor": 0,
  "metadata": {
    "colab": {
      "name": "Untitled1.ipynb",
      "provenance": [],
      "authorship_tag": "ABX9TyOB5z/gQUhvB4E5PeCKusGV"
    },
    "kernelspec": {
      "name": "python3",
      "display_name": "Python 3"
    },
    "language_info": {
      "name": "python"
    }
  },
  "cells": [
    {
      "cell_type": "markdown",
      "source": [
        "Nama =Fajrawati\n",
        "Nim = D0221116 \n",
        "Kelas =informatika H"
      ],
      "metadata": {
        "id": "Lm92uY4o3Jjd"
      }
    },
    {
      "cell_type": "markdown",
      "source": [
        "Struktur data List,Tuple,Dictionary,Set"
      ],
      "metadata": {
        "id": "pfN1mVT53Vaj"
      }
    },
    {
      "cell_type": "markdown",
      "source": [
        "List mengaupdate,menghapus,menambahkan, dan perulangan."
      ],
      "metadata": {
        "id": "ZTc3jSx63cry"
      }
    },
    {
      "cell_type": "code",
      "source": [
        "nama_hewan = ['kucing','ayam','kambing','sapi','monyet']\n",
        "nama_hewan [:]"
      ],
      "metadata": {
        "colab": {
          "base_uri": "https://localhost:8080/"
        },
        "id": "XLCVX1A93djp",
        "outputId": "d5836530-16d3-432d-d586-8483f2e3360b"
      },
      "execution_count": null,
      "outputs": [
        {
          "output_type": "execute_result",
          "data": {
            "text/plain": [
              "['kucing', 'ayam', 'kambing', 'sapi', 'monyet']"
            ]
          },
          "metadata": {},
          "execution_count": 2
        }
      ]
    },
    {
      "cell_type": "code",
      "source": [
        "\n",
        "#mengubah isi list kedua\n",
        "nama_hewan = ['kucing','ayam','kambing','sapi','monyet']\n",
        "nama_hewan [1] = 'ular'\n",
        "print (nama_hewan)"
      ],
      "metadata": {
        "colab": {
          "base_uri": "https://localhost:8080/"
        },
        "id": "Y-yBnlSj4OSn",
        "outputId": "a8ed8b5c-8be4-4d00-875d-bf6240c05985"
      },
      "execution_count": null,
      "outputs": [
        {
          "output_type": "stream",
          "name": "stdout",
          "text": [
            "['kucing', 'ular', 'kambing', 'sapi', 'monyet']\n"
          ]
        }
      ]
    },
    {
      "cell_type": "code",
      "source": [
        "\n",
        "#menampilkan isi list pertama\n",
        "nama_hewan = ['kucing','ayam','kambing','sapi','monyet']\n",
        "nama_hewan [0]"
      ],
      "metadata": {
        "colab": {
          "base_uri": "https://localhost:8080/",
          "height": 35
        },
        "id": "X7bsayj24xYL",
        "outputId": "eba02177-3e19-4a0e-ee1d-588f516a3bcf"
      },
      "execution_count": null,
      "outputs": [
        {
          "output_type": "execute_result",
          "data": {
            "text/plain": [
              "'kucing'"
            ],
            "application/vnd.google.colaboratory.intrinsic+json": {
              "type": "string"
            }
          },
          "metadata": {},
          "execution_count": 31
        }
      ]
    },
    {
      "cell_type": "code",
      "source": [
        "\n",
        "#menampilkan isi list pada indeks 2 sampai 4\n",
        "nama_hewan = ['kucing','ayam','kambing','sapi','monyet']\n",
        "nama_hewan [2:]"
      ],
      "metadata": {
        "colab": {
          "base_uri": "https://localhost:8080/"
        },
        "id": "_3-m4hol44YD",
        "outputId": "fdf65066-13f9-4be7-e05c-848c8c3b8c7f"
      },
      "execution_count": null,
      "outputs": [
        {
          "output_type": "execute_result",
          "data": {
            "text/plain": [
              "['kambing', 'sapi', 'monyet']"
            ]
          },
          "metadata": {},
          "execution_count": 32
        }
      ]
    },
    {
      "cell_type": "code",
      "source": [
        "\n",
        "#Menambah item terakhir\n",
        "nama_hewan = ['kucing','ayam','kambing','sapi','monyet']\n",
        "nama_hewan.append('cacing')\n",
        "print (nama_hewan)"
      ],
      "metadata": {
        "colab": {
          "base_uri": "https://localhost:8080/"
        },
        "id": "Naz03SOy482V",
        "outputId": "e586e793-6523-41ef-b6e1-17750a8033e1"
      },
      "execution_count": null,
      "outputs": [
        {
          "output_type": "stream",
          "name": "stdout",
          "text": [
            "['kucing', 'ayam', 'kambing', 'sapi', 'monyet', 'cacing']\n"
          ]
        }
      ]
    },
    {
      "cell_type": "code",
      "source": [
        "\n",
        "#Menambah 2 item terakhir\n",
        "nama_hewan = ['kucing','ayam','kambing','sapi','monyet']\n",
        "nama_hewan.extend(['kerbau','bangau'])\n",
        "print (nama_hewan)"
      ],
      "metadata": {
        "colab": {
          "base_uri": "https://localhost:8080/"
        },
        "id": "luWnu61P5KPy",
        "outputId": "d589fba5-30ec-493c-ed66-9e382198c8bb"
      },
      "execution_count": null,
      "outputs": [
        {
          "output_type": "stream",
          "name": "stdout",
          "text": [
            "['kucing', 'ayam', 'kambing', 'sapi', 'monyet', 'kerbau', 'bangau']\n"
          ]
        }
      ]
    },
    {
      "cell_type": "code",
      "source": [
        "\n",
        "#menambah item di indeks\n",
        "nama_hewan = ['kucing','ayam','kambing','sapi','monyet']\n",
        "nama_hewan.insert(2,'badak')\n",
        "print (nama_hewan)"
      ],
      "metadata": {
        "colab": {
          "base_uri": "https://localhost:8080/"
        },
        "id": "SL0msoML5Z8_",
        "outputId": "1ff0891b-f4bb-4685-dcc4-5cb1fb4f849c"
      },
      "execution_count": null,
      "outputs": [
        {
          "output_type": "stream",
          "name": "stdout",
          "text": [
            "['kucing', 'ayam', 'badak', 'kambing', 'sapi', 'monyet']\n"
          ]
        }
      ]
    },
    {
      "cell_type": "code",
      "source": [
        "\n",
        "#Menghapus item ke dua dilist\n",
        "nama_hewan = ['kucing','ayam','kambing','sapi','monyet']\n",
        "del nama_hewan [3]\n",
        "print (nama_hewan)"
      ],
      "metadata": {
        "colab": {
          "base_uri": "https://localhost:8080/"
        },
        "id": "X_A-aEW05oHf",
        "outputId": "913f9626-5699-48d3-fdaf-a58dbecbb4c7"
      },
      "execution_count": null,
      "outputs": [
        {
          "output_type": "stream",
          "name": "stdout",
          "text": [
            "['kucing', 'ayam', 'kambing', 'monyet']\n"
          ]
        }
      ]
    },
    {
      "cell_type": "code",
      "source": [
        "\n",
        "#menghapus berdasarkan nama\n",
        "nama_hewan = ['kucing','ayam','kambing','sapi','monyet']\n",
        "nama_hewan.remove ('ayam')\n",
        "print (nama_hewan)"
      ],
      "metadata": {
        "colab": {
          "base_uri": "https://localhost:8080/"
        },
        "id": "V9_J1TJ056EJ",
        "outputId": "88aca7da-9097-4745-8a69-bbdbf0151018"
      },
      "execution_count": null,
      "outputs": [
        {
          "output_type": "stream",
          "name": "stdout",
          "text": [
            "['kucing', 'kambing', 'sapi', 'monyet']\n"
          ]
        }
      ]
    },
    {
      "cell_type": "code",
      "source": [
        "\n",
        "#Menghapus item terkhir\n",
        "nama_hewan = ['kucing','ayam','kambing','sapi','monyet']\n",
        "nama_hewan.pop()\n",
        "print (nama_hewan)"
      ],
      "metadata": {
        "colab": {
          "base_uri": "https://localhost:8080/"
        },
        "id": "k8Wu_cWs6Fg4",
        "outputId": "55a2076f-3438-4c6b-e5ae-8d09ecf3f70b"
      },
      "execution_count": null,
      "outputs": [
        {
          "output_type": "stream",
          "name": "stdout",
          "text": [
            "['kucing', 'ayam', 'kambing', 'sapi']\n"
          ]
        }
      ]
    },
    {
      "cell_type": "code",
      "source": [
        "\n",
        "#menggunakan perulangan\n",
        "nama_hewan = ['kucing','ayam','kambing','sapi','monyet']\n",
        "for i in nama_hewan :\n",
        " print (i)"
      ],
      "metadata": {
        "colab": {
          "base_uri": "https://localhost:8080/"
        },
        "id": "0Sno3kir6QKU",
        "outputId": "b036d26e-e382-4784-9042-686160767203"
      },
      "execution_count": null,
      "outputs": [
        {
          "output_type": "stream",
          "name": "stdout",
          "text": [
            "kucing\n",
            "ayam\n",
            "kambing\n",
            "sapi\n",
            "monyet\n"
          ]
        }
      ]
    },
    {
      "cell_type": "markdown",
      "source": [
        "Tuple mengapdate, mengubah,menghapus, dan perulangan"
      ],
      "metadata": {
        "id": "4Na4zxbK7oCQ"
      }
    },
    {
      "cell_type": "code",
      "source": [
        "nama_benda =(\"buku\",\"pulpen\",\"kertas\",\"kipas\",\"meja\")\n",
        "print (nama_benda)"
      ],
      "metadata": {
        "colab": {
          "base_uri": "https://localhost:8080/"
        },
        "id": "avmMTtjm7ozP",
        "outputId": "4d5fa702-94f8-40d0-8e6c-5a65bd3f4e81"
      },
      "execution_count": null,
      "outputs": [
        {
          "output_type": "stream",
          "name": "stdout",
          "text": [
            "('buku', 'pulpen', 'kertas', 'kipas', 'meja')\n"
          ]
        }
      ]
    },
    {
      "cell_type": "code",
      "source": [
        "\n",
        "#mengubah isi list kedua\n",
        "nama_benda =(\"buku\",\"pulpen\",\"kertas\",\"kipas\",\"meja\")\n",
        "nama_benda = list(nama_benda)\n",
        "nama_benda [1] = \"mistar\"\n",
        "print (nama_benda)"
      ],
      "metadata": {
        "colab": {
          "base_uri": "https://localhost:8080/"
        },
        "id": "n5AEXbgs7_qu",
        "outputId": "0043c578-c6f7-4a6f-ab5d-f8465648ea13"
      },
      "execution_count": null,
      "outputs": [
        {
          "output_type": "stream",
          "name": "stdout",
          "text": [
            "['buku', 'mistar', 'kertas', 'kipas', 'meja']\n"
          ]
        }
      ]
    },
    {
      "cell_type": "code",
      "source": [
        "#menampilkan isi tuple pertama\n",
        "nama_benda =(\"buku\",\"pulpen\",\"kertas\",\"kipas\",\"meja\")\n",
        "print (nama_benda)\n",
        "nama_benda [0]"
      ],
      "metadata": {
        "colab": {
          "base_uri": "https://localhost:8080/",
          "height": 72
        },
        "id": "YL7j7HWc8nyk",
        "outputId": "9318de2e-e5c6-4daf-8782-c842d3ffe670"
      },
      "execution_count": null,
      "outputs": [
        {
          "output_type": "stream",
          "name": "stdout",
          "text": [
            "('buku', 'pulpen', 'kertas', 'kipas', 'meja')\n"
          ]
        },
        {
          "output_type": "execute_result",
          "data": {
            "text/plain": [
              "'buku'"
            ],
            "application/vnd.google.colaboratory.intrinsic+json": {
              "type": "string"
            }
          },
          "metadata": {},
          "execution_count": 46
        }
      ]
    },
    {
      "cell_type": "code",
      "source": [
        "\n",
        "#menampilkan isi tuple pada indeks 2 sampe 4\n",
        "nama_benda =(\"buku\",\"pulpen\",\"kertas\",\"kipas\",\"meja\")\n",
        "print (nama_benda)\n",
        "nama_benda [2:]"
      ],
      "metadata": {
        "colab": {
          "base_uri": "https://localhost:8080/"
        },
        "id": "eJzfx5gO8_IB",
        "outputId": "829a30da-5f28-4ca6-bd6d-0f22ddd7f1d1"
      },
      "execution_count": null,
      "outputs": [
        {
          "output_type": "stream",
          "name": "stdout",
          "text": [
            "('buku', 'pulpen', 'kertas', 'kipas', 'meja')\n"
          ]
        },
        {
          "output_type": "execute_result",
          "data": {
            "text/plain": [
              "('kertas', 'kipas', 'meja')"
            ]
          },
          "metadata": {},
          "execution_count": 49
        }
      ]
    },
    {
      "cell_type": "code",
      "source": [
        "\n",
        "#Menambah satu item diakhir tuple\n",
        "nama_benda =(\"buku\",\"pulpen\",\"kertas\",\"kipas\",\"meja\")\n",
        "nama_benda = list (nama_benda)\n",
        "nama_benda.append (\"kompor\")\n",
        "print (nama_benda)"
      ],
      "metadata": {
        "colab": {
          "base_uri": "https://localhost:8080/"
        },
        "id": "iRf3HXKt9RmS",
        "outputId": "612dad96-e905-4e1a-a1a2-e5f77574faa3"
      },
      "execution_count": null,
      "outputs": [
        {
          "output_type": "stream",
          "name": "stdout",
          "text": [
            "['buku', 'pulpen', 'kertas', 'kipas', 'meja', 'kompor']\n"
          ]
        }
      ]
    },
    {
      "cell_type": "code",
      "source": [
        "\n",
        "#Menghapus item kedua\n",
        "nama_benda =(\"buku\",\"pulpen\",\"kertas\",\"kipas\",\"meja\")\n",
        "nama_benda = list (nama_benda)\n",
        "del nama_benda [1]\n",
        "print (nama_benda)"
      ],
      "metadata": {
        "colab": {
          "base_uri": "https://localhost:8080/"
        },
        "id": "k_M6i32D9vK5",
        "outputId": "1a6483b1-e4da-4080-c1d9-6bb18b892038"
      },
      "execution_count": null,
      "outputs": [
        {
          "output_type": "stream",
          "name": "stdout",
          "text": [
            "['buku', 'kertas', 'kipas', 'meja']\n"
          ]
        }
      ]
    },
    {
      "cell_type": "code",
      "source": [
        "\n",
        "#Menghapus berdasarkan nama\n",
        "nama_benda =(\"buku\",\"pulpen\",\"kertas\",\"kipas\",\"meja\")\n",
        "nama_benda = list (nama_benda)\n",
        "nama_benda.remove(\"kertas\")\n",
        "print (nama_benda)"
      ],
      "metadata": {
        "colab": {
          "base_uri": "https://localhost:8080/"
        },
        "id": "pw_jkb1q-QHz",
        "outputId": "dae5a81f-83e3-472f-dfc2-c77696c620d4"
      },
      "execution_count": null,
      "outputs": [
        {
          "output_type": "stream",
          "name": "stdout",
          "text": [
            "['buku', 'pulpen', 'kipas', 'meja']\n"
          ]
        }
      ]
    },
    {
      "cell_type": "code",
      "source": [
        "#perulangan\n",
        "\n",
        "nama_benda =(\"buku\",\"pulpen\",\"kertas\",\"kipas\",\"meja\")\n",
        "for i in nama_benda :\n",
        " print (i)"
      ],
      "metadata": {
        "colab": {
          "base_uri": "https://localhost:8080/"
        },
        "id": "GcBK4A2C-2HL",
        "outputId": "f4a8a699-a8a3-4a0b-9a16-271aa559c261"
      },
      "execution_count": null,
      "outputs": [
        {
          "output_type": "stream",
          "name": "stdout",
          "text": [
            "buku\n",
            "pulpen\n",
            "kertas\n",
            "kipas\n",
            "meja\n"
          ]
        }
      ]
    },
    {
      "cell_type": "markdown",
      "source": [
        "Dictionary"
      ],
      "metadata": {
        "id": "BrNcJ3Ko_EI3"
      }
    },
    {
      "cell_type": "code",
      "source": [
        "#membuat dictionary\n",
        "dict_nama = {1:'fajra',2:'fajril'}\n",
        "print (dict_nama)"
      ],
      "metadata": {
        "colab": {
          "base_uri": "https://localhost:8080/"
        },
        "id": "TM02yX1I_HFs",
        "outputId": "4e2223a1-1428-4769-c34c-71e7ba3aa0af"
      },
      "execution_count": null,
      "outputs": [
        {
          "output_type": "stream",
          "name": "stdout",
          "text": [
            "{1: 'fajra', 2: 'fajril'}\n"
          ]
        }
      ]
    },
    {
      "cell_type": "code",
      "source": [
        "#Mengubah \n",
        "dict_nama = {1:'fajra',2:'fajril'}\n",
        "dict_nama [2] = 'marsa'\n",
        "print (dict_nama)"
      ],
      "metadata": {
        "colab": {
          "base_uri": "https://localhost:8080/"
        },
        "id": "NZM1qvUZ_sXI",
        "outputId": "43128f60-cef1-4674-d6e0-7d8b8cde054a"
      },
      "execution_count": null,
      "outputs": [
        {
          "output_type": "stream",
          "name": "stdout",
          "text": [
            "{1: 'fajra', 2: 'marsa'}\n"
          ]
        }
      ]
    },
    {
      "cell_type": "code",
      "source": [
        "#menambah\n",
        "dict_nama = {1:'fajra',2:'fajril'}\n",
        "dict_nama [3] = 'samsi'\n",
        "print (dict_nama)"
      ],
      "metadata": {
        "colab": {
          "base_uri": "https://localhost:8080/"
        },
        "id": "MD2sniOjAaiy",
        "outputId": "34c23b78-b76c-4ad5-8ed6-168e11c1ec8a"
      },
      "execution_count": null,
      "outputs": [
        {
          "output_type": "stream",
          "name": "stdout",
          "text": [
            "{1: 'fajra', 2: 'fajril', 3: 'samsi'}\n"
          ]
        }
      ]
    },
    {
      "cell_type": "code",
      "source": [
        "#menampilkan dictionary\n",
        "dict_nama = {1:'fajra',2:'fajril'}\n",
        "print (dict_nama[2])"
      ],
      "metadata": {
        "colab": {
          "base_uri": "https://localhost:8080/"
        },
        "id": "OuUJdOneAtP5",
        "outputId": "6d12c02c-6ced-4703-8f15-ae321947c562"
      },
      "execution_count": null,
      "outputs": [
        {
          "output_type": "stream",
          "name": "stdout",
          "text": [
            "fajril\n"
          ]
        }
      ]
    },
    {
      "cell_type": "code",
      "source": [
        "#perulangan\n",
        "dict_nama ={1:'fajra',2: 'fajril'}\n",
        "for i in dict_nama :\n",
        " print (i)"
      ],
      "metadata": {
        "colab": {
          "base_uri": "https://localhost:8080/"
        },
        "id": "oGdkSouIGdQu",
        "outputId": "0fe1582d-3b99-49d0-f1a1-65f37657cef1"
      },
      "execution_count": null,
      "outputs": [
        {
          "output_type": "stream",
          "name": "stdout",
          "text": [
            "1\n",
            "2\n"
          ]
        }
      ]
    },
    {
      "cell_type": "code",
      "source": [
        "dict_nama ={1:'fajra',2: 'fajril'}\n",
        "for i in dict_nama :\n",
        " print (f\"key:{i}value:{dict_nama[i]}\")"
      ],
      "metadata": {
        "colab": {
          "base_uri": "https://localhost:8080/"
        },
        "id": "ytsq3V2GG44-",
        "outputId": "1a4cfa39-851d-4643-a65d-2c396dd1ce4d"
      },
      "execution_count": null,
      "outputs": [
        {
          "output_type": "stream",
          "name": "stdout",
          "text": [
            "key:1value:fajra\n",
            "key:2value:fajril\n"
          ]
        }
      ]
    },
    {
      "cell_type": "markdown",
      "source": [
        "Set"
      ],
      "metadata": {
        "id": "wwq1ZEifBIQ9"
      }
    },
    {
      "cell_type": "code",
      "source": [
        "#membuat set\n",
        "Himpunan_mahasiswa1 ={'fajra','Ratna','hidayah','Rahma','Fani'}\n",
        "Himpunan_mahasiswa2 ={'efor','yayat','haikal','haerul','edwin'}\n",
        "print (Himpunan_mahasiswa1)\n",
        "print (Himpunan_mahasiswa2)"
      ],
      "metadata": {
        "colab": {
          "base_uri": "https://localhost:8080/"
        },
        "id": "dV_dR3FRBKmd",
        "outputId": "f5472917-c9c2-42a3-af9b-5d5174a330bb"
      },
      "execution_count": null,
      "outputs": [
        {
          "output_type": "stream",
          "name": "stdout",
          "text": [
            "{'hidayah', 'Fani', 'Ratna', 'fajra', 'Rahma'}\n",
            "{'yayat', 'haikal', 'edwin', 'efor', 'haerul'}\n"
          ]
        }
      ]
    },
    {
      "cell_type": "code",
      "source": [
        "#menggabungkan Set\n",
        "Himpunan_mahasiswa1 ={'fajra','Ratna','hidayah','Rahma','Fani'}\n",
        "Himpunan_mahasiswa2 ={'efor','yayat','haikal','haerul','edwin'}\n",
        "print (Himpunan_mahasiswa1.union(Himpunan_mahasiswa2))"
      ],
      "metadata": {
        "colab": {
          "base_uri": "https://localhost:8080/"
        },
        "id": "97rSvYeaCPje",
        "outputId": "306f2318-b3fd-4317-e472-4c6290c0cfd4"
      },
      "execution_count": null,
      "outputs": [
        {
          "output_type": "stream",
          "name": "stdout",
          "text": [
            "{'hidayah', 'Fani', 'yayat', 'haerul', 'haikal', 'edwin', 'Ratna', 'fajra', 'efor', 'Rahma'}\n"
          ]
        }
      ]
    },
    {
      "cell_type": "code",
      "source": [
        "#selisi dari dua himpunan\n",
        "Himpunan_mahasiswa1 ={'fajra','Ratna','hidayah','Rahma','Fani'}\n",
        "Himpunan_mahasiswa2 ={'efor','yayat','haikal','haerul','edwin'}\n",
        "print (Himpunan_mahasiswa1.difference(Himpunan_mahasiswa2))"
      ],
      "metadata": {
        "colab": {
          "base_uri": "https://localhost:8080/"
        },
        "id": "eDLcVo7tCzEn",
        "outputId": "d762a555-b1dd-4c66-bff3-4c11b16bf426"
      },
      "execution_count": null,
      "outputs": [
        {
          "output_type": "stream",
          "name": "stdout",
          "text": [
            "{'hidayah', 'Fani', 'Ratna', 'fajra', 'Rahma'}\n"
          ]
        }
      ]
    },
    {
      "cell_type": "code",
      "source": [
        "#menambah\n",
        "\n",
        "Himpunan_mahasiswa1 ={'fajra','Ratna','hidayah','Rahma','Fani'}\n",
        "Himpunan_mahasiswa2 ={'efor','yayat','haikal','haerul','edwin'}\n",
        "Himpunan_mahasiswa1.add('sabri')\n",
        "print (Himpunan_mahasiswa1)"
      ],
      "metadata": {
        "colab": {
          "base_uri": "https://localhost:8080/"
        },
        "id": "9my-6n1-DtJm",
        "outputId": "d62c7747-ce19-4a21-a184-ffd43ca68ec9"
      },
      "execution_count": null,
      "outputs": [
        {
          "output_type": "stream",
          "name": "stdout",
          "text": [
            "{'hidayah', 'Fani', 'sabri', 'Ratna', 'fajra', 'Rahma'}\n"
          ]
        }
      ]
    },
    {
      "cell_type": "code",
      "source": [
        "#menghapus\n",
        "Himpunan_mahasiswa1 ={'fajra','Ratna','hidayah','Rahma','Fani'}\n",
        "Himpunan_mahasiswa2 ={'efor','yayat','haikal','haerul','edwin'}\n",
        "Himpunan_mahasiswa1.discard('Ratna')\n",
        "print (Himpunan_mahasiswa1)"
      ],
      "metadata": {
        "colab": {
          "base_uri": "https://localhost:8080/"
        },
        "id": "AXPWWC_UELGH",
        "outputId": "07714cba-1dd5-4844-f923-ae249dfefb27"
      },
      "execution_count": null,
      "outputs": [
        {
          "output_type": "stream",
          "name": "stdout",
          "text": [
            "{'hidayah', 'Fani', 'fajra', 'Rahma'}\n"
          ]
        }
      ]
    },
    {
      "cell_type": "code",
      "source": [
        "#Menghapus semua\n",
        "Himpunan_mahasiswa1 ={'fajra','Ratna','hidayah','Rahma','Fani'}\n",
        "Himpunan_mahasiswa2 ={'efor','yayat','haikal','haerul','edwin'}\n",
        "Himpunan_mahasiswa1.clear()\n",
        "print (Himpunan_mahasiswa1)"
      ],
      "metadata": {
        "colab": {
          "base_uri": "https://localhost:8080/"
        },
        "id": "VP6yarCdElZk",
        "outputId": "2c4586db-b426-42ea-c84b-7da8ea5cb734"
      },
      "execution_count": null,
      "outputs": [
        {
          "output_type": "stream",
          "name": "stdout",
          "text": [
            "set()\n"
          ]
        }
      ]
    },
    {
      "cell_type": "code",
      "source": [
        "#perulangan\n",
        "\n",
        "dict={'fajra','Ratna','hidayah','Rahma','Fani'}\n",
        "for i in dict :\n",
        " print (i)"
      ],
      "metadata": {
        "colab": {
          "base_uri": "https://localhost:8080/"
        },
        "id": "sBXKFTnIFKzM",
        "outputId": "fa3d9ff8-145e-4d82-ebf1-648e253b9754"
      },
      "execution_count": null,
      "outputs": [
        {
          "output_type": "stream",
          "name": "stdout",
          "text": [
            "hidayah\n",
            "Fani\n",
            "Ratna\n",
            "fajra\n",
            "Rahma\n"
          ]
        }
      ]
    }
  ]
}