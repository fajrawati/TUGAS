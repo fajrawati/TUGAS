{
  "nbformat": 4,
  "nbformat_minor": 0,
  "metadata": {
    "colab": {
      "name": "Untitled1.ipynb",
      "provenance": [],
      "authorship_tag": "ABX9TyNgD8VEMQZsYxyuN3B4W9u1",
      "include_colab_link": true
    },
    "kernelspec": {
      "name": "python3",
      "display_name": "Python 3"
    },
    "language_info": {
      "name": "python"
    }
  },
  "cells": [
    {
      "cell_type": "markdown",
      "metadata": {
        "id": "view-in-github",
        "colab_type": "text"
      },
      "source": [
        "<a href=\"https://colab.research.google.com/github/fajrawati/TUGAS/blob/main/Untitled1Fajrawati%20D022116%20Tugas%203.ipynb\" target=\"_parent\"><img src=\"https://colab.research.google.com/assets/colab-badge.svg\" alt=\"Open In Colab\"/></a>"
      ]
    },
    {
      "cell_type": "markdown",
      "source": [
        "Nama =Fajrawati\n",
        "Nim = D0221116 \n",
        "Kelas =informatika H"
      ],
      "metadata": {
        "id": "Lm92uY4o3Jjd"
      }
    },
    {
      "cell_type": "code",
      "source": [
        "\n",
        "def bikin_stack () :\n",
        "        stack = [38,39,40]\n",
        "        return stack\n",
        "        \n",
        "def periksa_empty ( stack ) :\n",
        "        return len (stack) == 0\n",
        "        \n",
        "def push ( stack,item ):\n",
        "        stack.append (item)\n",
        "        print (\"ukuran sepatu yang dikembalikan:\",item)\n",
        "        \n",
        "def pop (stack) :\n",
        "        if (periksa_empty (stack)) :\n",
        "            return print (\"ukuran sepatu pada rak kosong\")\n",
        "        print (\"ukuran sepatu yang diambil:\",stack.pop())\n",
        "        \n",
        "def size (stack) :\n",
        "        print (\"jumlah sepatu pada rak:\" ,len(stack))\n",
        "        \n",
        "def top (stack):\n",
        "        top = len (stack) -1\n",
        "        if top < 0 :\n",
        "            print (\" tidak terdefenisi\")\n",
        "        else :\n",
        "            print (\"ukuran sepatu yang teratas:\" , stack [top])\n",
        "            \n",
        "def tampilkan (stack) :\n",
        "        print (stack)\n",
        "        \n",
        "            \n",
        "s = bikin_stack ()\n",
        "print (\" tumpukan ukuran sepatu pada rak \")\n",
        "\n",
        "\n",
        "#Data awal stack\n",
        "print (\"ukuran sepatu yang yang berada pada tumpukan saat ini:  \",s) \n",
        "\n",
        "size (s)\n",
        "top (s)\n",
        "print ()\n",
        "\n",
        "#Meminjam ukuran sepatu\n",
        "pop (s)\n",
        "pop (s)\n",
        "pop (s)\n",
        "print (\"ukuran sepatu yang yang berada pada tumpukan saat ini:  \",s)\n",
        "\n",
        "#mengembalikan\n",
        "push (s,input())\n",
        "push (s,input())\n",
        "push (s,input())\n",
        "print (\"ukuran sepatu yang yang berada pada tumpukan saat ini:  \",s)"
      ],
      "metadata": {
        "colab": {
          "base_uri": "https://localhost:8080/"
        },
        "id": "aG_rNm4d-w8Q",
        "outputId": "26866863-3e46-4b83-9d21-f8233b2de7e7"
      },
      "execution_count": null,
      "outputs": [
        {
          "output_type": "stream",
          "name": "stdout",
          "text": [
            " tumpukan ukuran sepatu pada rak \n",
            "ukuran sepatu yang yang berada pada tumpukan saat ini:   [38, 39, 40]\n",
            "jumlah sepatu pada rak: 3\n",
            "ukuran sepatu yang teratas: 40\n",
            "\n",
            "ukuran sepatu yang diambil: 40\n",
            "ukuran sepatu yang diambil: 39\n",
            "ukuran sepatu yang diambil: 38\n",
            "ukuran sepatu yang yang berada pada tumpukan saat ini:   []\n",
            "34\n",
            "ukuran sepatu yang dikembalikan: 34\n",
            "39\n",
            "ukuran sepatu yang dikembalikan: 39\n",
            "40\n",
            "ukuran sepatu yang dikembalikan: 40\n",
            "ukuran sepatu yang yang berada pada tumpukan saat ini:   ['34', '39', '40']\n"
          ]
        }
      ]
    },
    {
      "cell_type": "code",
      "source": [
        "\n",
        "queue = []\n",
        "#inputan user\n",
        "perintah = int(input(\"Masukkan Ukuran Maksimal Queue: \"))\n",
        "\n",
        "#Memeriksa apakah Queue kosong\n",
        "def isEmpty():\n",
        "    if len(queue) == 0:\n",
        "        print(\"Queue Kosong.\")\n",
        "        return True\n",
        "    return False\n",
        "\n",
        "#Memeriksa ukuran Queue \n",
        "def isFull():\n",
        "    if len(queue) == max_size:\n",
        "        print(\"Queue Penuh.\")\n",
        "        return True\n",
        "    return False\n",
        "\n",
        "#Memeriksa pengahapusan dari antrian        \n",
        "def dequeue():\n",
        "    if isEmpty() == False:\n",
        "        print(queue.pop(0), \"terhapus dari queue.\")\n",
        "\n",
        "#Kode menambah Queue\n",
        "def enqueue():\n",
        "    if isFull() == False:\n",
        "        x = input(\"Masukkan Antrian Baru: \")\n",
        "        queue.append(x)\n",
        "        print(x, \"ditambahkan ke queue.\")\n",
        "\n",
        "#kode perintah\n",
        "p = 0\n",
        "while p != '5':\n",
        "    print('''\\n1. Enqueue => Menambah Antrian\n",
        "2. Dequeue => Menghapus dari Antrian\n",
        "3. Full => Memeriksa Apakah Queue Penuh\n",
        "4. Size => Melihat Ukuran Queue''')\n",
        "    p = input(\"Ketik 5 untuk berhenti\\nMasukkan Perintah: \")\n",
        "    print()\n",
        "    \n",
        "    if p == '1':\n",
        "        enqueue()\n",
        "    elif p == '2':\n",
        "        dequeue()\n",
        "    elif p == '3':\n",
        "        if isFull() == False:\n",
        "            print(\"Queue belum penuh.\")\n",
        "    elif p == '4':\n",
        "        print(\"Ukuran queue saat ini: \", len(queue), \"\\nUkuran maksimal queue: \", max_size)"
      ],
      "metadata": {
        "colab": {
          "base_uri": "https://localhost:8080/"
        },
        "id": "XIuwuG9o8Lpp",
        "outputId": "c9925885-8d72-4a2f-dcd3-2b912e5adb64"
      },
      "execution_count": null,
      "outputs": [
        {
          "output_type": "stream",
          "name": "stdout",
          "text": [
            "Masukkan Ukuran Maksimal Queue: 3\n",
            "\n",
            "1. Enqueue => Menambah Antrian\n",
            "2. Dequeue => Menghapus dari Antrian\n",
            "3. Full => Memeriksa Apakah Queue Penuh\n",
            "4. Size => Melihat Ukuran Queue\n",
            "Ketik 5 untuk berhenti\n",
            "Masukkan Perintah: 1\n",
            "\n",
            "Masukkan Antrian Baru: Fajra\n",
            "Fajra ditambahkan ke queue.\n",
            "\n",
            "1. Enqueue => Menambah Antrian\n",
            "2. Dequeue => Menghapus dari Antrian\n",
            "3. Full => Memeriksa Apakah Queue Penuh\n",
            "4. Size => Melihat Ukuran Queue\n",
            "Ketik 5 untuk berhenti\n",
            "Masukkan Perintah: 1\n",
            "\n",
            "Queue Penuh.\n",
            "\n",
            "1. Enqueue => Menambah Antrian\n",
            "2. Dequeue => Menghapus dari Antrian\n",
            "3. Full => Memeriksa Apakah Queue Penuh\n",
            "4. Size => Melihat Ukuran Queue\n",
            "Ketik 5 untuk berhenti\n",
            "Masukkan Perintah: Fajril\n",
            "\n",
            "\n",
            "1. Enqueue => Menambah Antrian\n",
            "2. Dequeue => Menghapus dari Antrian\n",
            "3. Full => Memeriksa Apakah Queue Penuh\n",
            "4. Size => Melihat Ukuran Queue\n",
            "Ketik 5 untuk berhenti\n",
            "Masukkan Perintah: 2\n",
            "\n",
            "Fajra terhapus dari queue.\n",
            "\n",
            "1. Enqueue => Menambah Antrian\n",
            "2. Dequeue => Menghapus dari Antrian\n",
            "3. Full => Memeriksa Apakah Queue Penuh\n",
            "4. Size => Melihat Ukuran Queue\n",
            "Ketik 5 untuk berhenti\n",
            "Masukkan Perintah: 3\n",
            "\n",
            "Queue belum penuh.\n",
            "\n",
            "1. Enqueue => Menambah Antrian\n",
            "2. Dequeue => Menghapus dari Antrian\n",
            "3. Full => Memeriksa Apakah Queue Penuh\n",
            "4. Size => Melihat Ukuran Queue\n",
            "Ketik 5 untuk berhenti\n",
            "Masukkan Perintah: 4\n",
            "\n",
            "Ukuran queue saat ini:  0 \n",
            "Ukuran maksimal queue:  1\n",
            "\n",
            "1. Enqueue => Menambah Antrian\n",
            "2. Dequeue => Menghapus dari Antrian\n",
            "3. Full => Memeriksa Apakah Queue Penuh\n",
            "4. Size => Melihat Ukuran Queue\n",
            "Ketik 5 untuk berhenti\n",
            "Masukkan Perintah: 5\n",
            "\n"
          ]
        }
      ]
    }
  ]
}