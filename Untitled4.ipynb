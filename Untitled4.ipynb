{
  "nbformat": 4,
  "nbformat_minor": 0,
  "metadata": {
    "colab": {
      "name": "Untitled4.ipynb",
      "provenance": [],
      "authorship_tag": "ABX9TyPaZD8YUhkEHrsANa/baLY4",
      "include_colab_link": true
    },
    "kernelspec": {
      "name": "python3",
      "display_name": "Python 3"
    },
    "language_info": {
      "name": "python"
    }
  },
  "cells": [
    {
      "cell_type": "markdown",
      "metadata": {
        "id": "view-in-github",
        "colab_type": "text"
      },
      "source": [
        "<a href=\"https://colab.research.google.com/github/fajrawati/TUGAS/blob/main/Untitled4.ipynb\" target=\"_parent\"><img src=\"https://colab.research.google.com/assets/colab-badge.svg\" alt=\"Open In Colab\"/></a>"
      ]
    },
    {
      "cell_type": "code",
      "source": [
        "\n",
        "barang = []\n",
        "\n",
        "while True:\n",
        "  print('''1. Menambah\n",
        "2. Menghapus\n",
        "3. Mengedit\n",
        "4. Menampilkan\n",
        "5. Memeriksa Barang\n",
        "6. Mencari Index''')\n",
        "  perintah = input(\"Masukkan Perintah anda: \")\n",
        "\n",
        "  if perintah == '1':\n",
        "    tambah = input(\"Masukkan Barang: \")\n",
        "    barang.append(tambah)\n",
        "  elif perintah == '2':\n",
        "    hapus = input(\"Masukkan Barang yang akan dihapus: \")\n",
        "    barang.remove(hapus)\n",
        "  elif perintah == '3':\n",
        "    edit = input(\"Masukkan Barang yang akan diedit: \")\n",
        "    index = None\n",
        "    for i in range(len(barang)):\n",
        "      if barang [i] == edit:\n",
        "        index = i\n",
        "\n",
        "    if index == None:\n",
        "      print(\"Barang tidak ditemukan.\")\n",
        "    else:\n",
        "      barang [index] = input(\"Masukkan Barang yang Baru: \")\n",
        "  elif perintah == '4':\n",
        "    print(barang)\n",
        "  elif perintah == '5':\n",
        "    cari = input(\"Masukkan Barang yang dicari: \")\n",
        "    flag = False\n",
        "\n",
        "    for i in range(len(barang)):\n",
        "      if barang [i] == cari:\n",
        "        print(\"Barang ditemukan\")\n",
        "        flag = True\n",
        "\n",
        "    if flag == False:\n",
        "      print(\"Barang tidak ditemukan\")\n",
        "  elif perintah == '6':\n",
        "    carikan = input(\"Masukkan Barang yang akan dicari indexnya: \")\n",
        "    index = None\n",
        "    for i in range(len(barang)):\n",
        "      if barang [i] == carikan:\n",
        "        index = i\n",
        "\n",
        "    if index == None:\n",
        "      print(\"Barang tidak ditemukan.\")\n",
        "    else:\n",
        "      print(\"{} ada pada index ke-{}\". format(carikan, index))\n",
        "  else:\n",
        "    break\n",
        "\n",
        "\n",
        "\n",
        "print(\"Program Berhenti\")"
      ],
      "metadata": {
        "id": "l13ZOWt-OKXH"
      },
      "execution_count": null,
      "outputs": []
    }
  ]
}