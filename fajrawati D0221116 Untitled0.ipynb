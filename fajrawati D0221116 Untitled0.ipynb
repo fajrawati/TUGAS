{
  "cells": [
    {
      "cell_type": "markdown",
      "metadata": {
        "id": "view-in-github",
        "colab_type": "text"
      },
      "source": [
        "<a href=\"https://colab.research.google.com/github/fajrawati/TUGAS/blob/main/fajrawati%20D0221116%20Untitled0.ipynb\" target=\"_parent\"><img src=\"https://colab.research.google.com/assets/colab-badge.svg\" alt=\"Open In Colab\"/></a>"
      ]
    },
    {
      "cell_type": "markdown",
      "source": [
        "PERSYARATAN ALGORITMA DAN STRUKTUR DATA"
      ],
      "metadata": {
        "id": "z4VG6DlBSqw1"
      }
    },
    {
      "cell_type": "markdown",
      "source": [
        "Nama = Fajrawati\n",
        "Kelas = informatika H\n",
        "Nim  = D0221116"
      ],
      "metadata": {
        "id": "-4iakNnZgQ3E"
      }
    },
    {
      "cell_type": "markdown",
      "source": [
        "Tipe pada phyton"
      ],
      "metadata": {
        "id": "jcuGYuADghpe"
      }
    },
    {
      "cell_type": "code",
      "source": [
        "angka = 35\n",
        "print (angka)\n",
        "print (type(angka))"
      ],
      "metadata": {
        "colab": {
          "base_uri": "https://localhost:8080/"
        },
        "id": "KiXE4yjEglO3",
        "outputId": "06fae399-a7b6-4252-b5b2-39bd95901497"
      },
      "execution_count": null,
      "outputs": [
        {
          "output_type": "stream",
          "name": "stdout",
          "text": [
            "35\n",
            "<class 'int'>\n"
          ]
        }
      ]
    },
    {
      "cell_type": "code",
      "source": [
        "nilai = 2.4\n",
        "print (nilai)\n",
        "print (type(nilai))"
      ],
      "metadata": {
        "colab": {
          "base_uri": "https://localhost:8080/"
        },
        "id": "JBqUbBd0gvws",
        "outputId": "8fd7aade-98be-4ca1-9348-34fae7c0ff3c"
      },
      "execution_count": null,
      "outputs": [
        {
          "output_type": "stream",
          "name": "stdout",
          "text": [
            "2.4\n",
            "<class 'float'>\n"
          ]
        }
      ]
    },
    {
      "cell_type": "code",
      "source": [
        "angka = 4<8\n",
        "print (angka)\n",
        "print (type(angka))"
      ],
      "metadata": {
        "colab": {
          "base_uri": "https://localhost:8080/"
        },
        "id": "6bgzYduag6K5",
        "outputId": "7bd61791-f7e2-40b6-a7d2-4d262fc9a39c"
      },
      "execution_count": null,
      "outputs": [
        {
          "output_type": "stream",
          "name": "stdout",
          "text": [
            "True\n",
            "<class 'bool'>\n"
          ]
        }
      ]
    },
    {
      "cell_type": "markdown",
      "source": [
        "String"
      ],
      "metadata": {
        "id": "68bxfqGShLq0"
      }
    },
    {
      "cell_type": "code",
      "source": [
        "nama =\"fajrawati\"\n",
        "print (nama)\n",
        "print (type(nama))"
      ],
      "metadata": {
        "colab": {
          "base_uri": "https://localhost:8080/"
        },
        "id": "nYSljnkKhMvQ",
        "outputId": "01e5a95a-a865-4ac4-d639-4e91abddfb57"
      },
      "execution_count": null,
      "outputs": [
        {
          "output_type": "stream",
          "name": "stdout",
          "text": [
            "fajrawati\n",
            "<class 'str'>\n"
          ]
        }
      ]
    },
    {
      "cell_type": "code",
      "source": [
        "nama = input(\"masukkan nama:\")\n",
        "print (\"nama saya {}\".format(nama))\n",
        "print (type(nama))"
      ],
      "metadata": {
        "colab": {
          "base_uri": "https://localhost:8080/"
        },
        "id": "gP48b2eAhZf2",
        "outputId": "ffacba40-720d-494f-a0f4-c0cbfaab79c1"
      },
      "execution_count": null,
      "outputs": [
        {
          "output_type": "stream",
          "name": "stdout",
          "text": [
            "masukkan nama:Fajrawati\n",
            "nama saya Fajrawati\n",
            "<class 'str'>\n"
          ]
        }
      ]
    },
    {
      "cell_type": "markdown",
      "source": [
        "Operator aritmetika"
      ],
      "metadata": {
        "id": "kRPRh7_Yi5Nz"
      }
    },
    {
      "cell_type": "code",
      "source": [
        "nilai1 = 10\n",
        "nilai2 = 5\n",
        "\n",
        "print (nilai1+nilai2)\n",
        "print (nilai1-nilai2)\n",
        "print (nilai1*nilai2)\n",
        "print (nilai1/nilai2)\n",
        "print (nilai1%nilai2)\n",
        "print (nilai1**nilai2)\n",
        "print (nilai1//nilai2)"
      ],
      "metadata": {
        "colab": {
          "base_uri": "https://localhost:8080/"
        },
        "id": "8MM3RZE3i-K4",
        "outputId": "38841476-0fe2-4db3-c5a2-cb85df7a784c"
      },
      "execution_count": null,
      "outputs": [
        {
          "output_type": "stream",
          "name": "stdout",
          "text": [
            "15\n",
            "5\n",
            "50\n",
            "2.0\n",
            "0\n",
            "100000\n",
            "2\n"
          ]
        }
      ]
    },
    {
      "cell_type": "markdown",
      "source": [
        "Operator penugasan"
      ],
      "metadata": {
        "id": "uFqkWWxYkAap"
      }
    },
    {
      "cell_type": "code",
      "source": [
        "nilai = 2\n",
        "nilai += 4\n",
        "print (nilai)"
      ],
      "metadata": {
        "colab": {
          "base_uri": "https://localhost:8080/"
        },
        "id": "AdC47SY9kIQC",
        "outputId": "089a57c4-6996-498c-edb2-e21cb5f4f1c7"
      },
      "execution_count": null,
      "outputs": [
        {
          "output_type": "stream",
          "name": "stdout",
          "text": [
            "6\n"
          ]
        }
      ]
    },
    {
      "cell_type": "code",
      "source": [
        "nilai = 2\n",
        "nilai -= 4\n",
        "print (nilai)"
      ],
      "metadata": {
        "colab": {
          "base_uri": "https://localhost:8080/"
        },
        "id": "NBG43QKikwpy",
        "outputId": "881eecd4-45d3-4db6-9744-c73fee0acf3b"
      },
      "execution_count": null,
      "outputs": [
        {
          "output_type": "stream",
          "name": "stdout",
          "text": [
            "-2\n"
          ]
        }
      ]
    },
    {
      "cell_type": "code",
      "source": [
        "nilai = 2\n",
        "nilai *= 4\n",
        "print (nilai)"
      ],
      "metadata": {
        "colab": {
          "base_uri": "https://localhost:8080/"
        },
        "id": "SaIAp91Zkz0s",
        "outputId": "b410505a-a408-40dc-af4d-e5f5bc98c81f"
      },
      "execution_count": null,
      "outputs": [
        {
          "output_type": "stream",
          "name": "stdout",
          "text": [
            "8\n"
          ]
        }
      ]
    },
    {
      "cell_type": "code",
      "source": [
        "nilai = 2\n",
        "nilai /= 4\n",
        "print (nilai)"
      ],
      "metadata": {
        "colab": {
          "base_uri": "https://localhost:8080/"
        },
        "id": "H-KAPsFAk5J5",
        "outputId": "cee4fc0e-39da-4b6f-cd37-a2978e586585"
      },
      "execution_count": null,
      "outputs": [
        {
          "output_type": "stream",
          "name": "stdout",
          "text": [
            "0.5\n"
          ]
        }
      ]
    },
    {
      "cell_type": "code",
      "source": [
        "nilai = 2\n",
        "nilai %= 4\n",
        "print (nilai)"
      ],
      "metadata": {
        "colab": {
          "base_uri": "https://localhost:8080/"
        },
        "id": "21xtP6Ksk9_t",
        "outputId": "f4f3dac4-db58-4e1f-a2eb-7e4ab7fdedc3"
      },
      "execution_count": null,
      "outputs": [
        {
          "output_type": "stream",
          "name": "stdout",
          "text": [
            "2\n"
          ]
        }
      ]
    },
    {
      "cell_type": "code",
      "source": [
        "nilai = 2\n",
        "nilai //= 4\n",
        "print (nilai)"
      ],
      "metadata": {
        "colab": {
          "base_uri": "https://localhost:8080/"
        },
        "id": "u_XQYWualDe3",
        "outputId": "439e7f85-0665-490c-9086-540e9704dbc4"
      },
      "execution_count": null,
      "outputs": [
        {
          "output_type": "stream",
          "name": "stdout",
          "text": [
            "0\n"
          ]
        }
      ]
    },
    {
      "cell_type": "code",
      "source": [
        "nilai = 2\n",
        "nilai **= 4\n",
        "print (nilai)"
      ],
      "metadata": {
        "colab": {
          "base_uri": "https://localhost:8080/"
        },
        "id": "6JMZ2waklF-N",
        "outputId": "8e3505b8-8909-4fef-fe5f-b571da4b0fda"
      },
      "execution_count": null,
      "outputs": [
        {
          "output_type": "stream",
          "name": "stdout",
          "text": [
            "16\n"
          ]
        }
      ]
    },
    {
      "cell_type": "markdown",
      "source": [
        "Operator perbandingan"
      ],
      "metadata": {
        "id": "3K_-9IRWl9On"
      }
    },
    {
      "cell_type": "code",
      "source": [
        "nilai = 4\n",
        "nilai == 4\n",
        "print (\"nilai tersebut adalah 4\")"
      ],
      "metadata": {
        "colab": {
          "base_uri": "https://localhost:8080/"
        },
        "id": "iL2elL2el-2H",
        "outputId": "74acf3fe-2179-4c6a-99fb-de693741a787"
      },
      "execution_count": null,
      "outputs": [
        {
          "output_type": "stream",
          "name": "stdout",
          "text": [
            "nilai tersebut adalah 4\n"
          ]
        }
      ]
    },
    {
      "cell_type": "code",
      "source": [
        "nilai = 4\n",
        "nilai != 5\n",
        "print (\"nilai tersebut bukan 4\")"
      ],
      "metadata": {
        "colab": {
          "base_uri": "https://localhost:8080/"
        },
        "id": "WCWM5fXsnoTo",
        "outputId": "baeef661-538f-4186-babe-699afebf8f9a"
      },
      "execution_count": null,
      "outputs": [
        {
          "output_type": "stream",
          "name": "stdout",
          "text": [
            "nilai tersebut bukan 4\n"
          ]
        }
      ]
    },
    {
      "cell_type": "code",
      "source": [
        "nilai = 5\n",
        "nilai >= 4\n",
        "print (\"nilai tersebut lebih besar dari 4\")"
      ],
      "metadata": {
        "colab": {
          "base_uri": "https://localhost:8080/"
        },
        "id": "x_xdLTpknwYm",
        "outputId": "a89f44f8-699e-4889-d298-4a1b5010e6b9"
      },
      "execution_count": null,
      "outputs": [
        {
          "output_type": "stream",
          "name": "stdout",
          "text": [
            "nilai tersebut lebih besar dari 4\n"
          ]
        }
      ]
    },
    {
      "cell_type": "code",
      "source": [
        "nilai = 2\n",
        "nilai <= 4\n",
        "print (\"nilai tersebut lebih kecil dari 4\")"
      ],
      "metadata": {
        "colab": {
          "base_uri": "https://localhost:8080/"
        },
        "id": "2MUKKpbfoFkL",
        "outputId": "3e462900-cf6c-4a81-f47a-65e090adf140"
      },
      "execution_count": null,
      "outputs": [
        {
          "output_type": "stream",
          "name": "stdout",
          "text": [
            "nilai tersebut lebih kecil dari 4\n"
          ]
        }
      ]
    },
    {
      "cell_type": "markdown",
      "source": [
        "Percabangan if elif else"
      ],
      "metadata": {
        "id": "Jsv2DvJirCsb"
      }
    },
    {
      "cell_type": "code",
      "source": [
        "nilai = 50\n",
        "if nilai> 60 :\n",
        " print (\"lulus\")\n",
        "else :\n",
        " print (\"tidak lulus\")"
      ],
      "metadata": {
        "colab": {
          "base_uri": "https://localhost:8080/"
        },
        "id": "FmOQnwHComVR",
        "outputId": "c0fca4af-e871-4780-e941-110030fc85de"
      },
      "execution_count": null,
      "outputs": [
        {
          "output_type": "stream",
          "name": "stdout",
          "text": [
            "tidak lulus\n"
          ]
        }
      ]
    },
    {
      "cell_type": "code",
      "source": [
        "umur = 4\n",
        "\n",
        "if umur >= 1 and umur <= 12 :\n",
        " print (\"anak-anak\")\n",
        "elif umur >= 13 and umur <=16 :\n",
        " print (\"remaja\")\n",
        "else :\n",
        " print (\"dewasa\")"
      ],
      "metadata": {
        "colab": {
          "base_uri": "https://localhost:8080/"
        },
        "id": "pixy8o9XpF1r",
        "outputId": "2cb8b338-a58c-46c8-a60a-742cebc6bd50"
      },
      "execution_count": null,
      "outputs": [
        {
          "output_type": "stream",
          "name": "stdout",
          "text": [
            "anak-anak\n"
          ]
        }
      ]
    },
    {
      "cell_type": "code",
      "source": [
        "umur =int(input(\"masukkan umur:\"))\n",
        "\n",
        "if umur >= 1 and umur <= 12 :\n",
        " print (\"anak-anak\")\n",
        "elif umur >= 13 and umur <=16 :\n",
        " print (\"remaja\")\n",
        "elif umur >= 17 and umur <= 100 :\n",
        " print (\"dewasa\")\n",
        "else :\n",
        " print (\"tua renta\")"
      ],
      "metadata": {
        "colab": {
          "base_uri": "https://localhost:8080/"
        },
        "id": "gYTk1NHSp_qL",
        "outputId": "1c8a6a96-5021-472f-d1eb-a666b2d0c271"
      },
      "execution_count": null,
      "outputs": [
        {
          "output_type": "stream",
          "name": "stdout",
          "text": [
            "masukkan umur:34\n",
            "dewasa\n"
          ]
        }
      ]
    },
    {
      "cell_type": "markdown",
      "source": [
        "Operator logika"
      ],
      "metadata": {
        "id": "P-rfLZwjqnXb"
      }
    },
    {
      "cell_type": "markdown",
      "source": [
        "And \n",
        "Or\n",
        "not"
      ],
      "metadata": {
        "id": "W04_aH5hqrXA"
      }
    }
  ],
  "metadata": {
    "colab": {
      "name": "Untitled0.ipynb",
      "provenance": [],
      "collapsed_sections": [],
      "authorship_tag": "ABX9TyMvARCtV1alKKHe4cFP6gV1",
      "include_colab_link": true
    },
    "kernelspec": {
      "display_name": "Python 3",
      "name": "python3"
    },
    "language_info": {
      "name": "python"
    }
  },
  "nbformat": 4,
  "nbformat_minor": 0
}